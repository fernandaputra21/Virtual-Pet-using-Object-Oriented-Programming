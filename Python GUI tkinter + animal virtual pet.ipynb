{
 "cells": [
  {
   "cell_type": "code",
   "execution_count": 1,
   "metadata": {},
   "outputs": [],
   "source": [
    "import tkinter\n",
    "from tkinter import *\n",
    "from PIL import ImageTk, Image"
   ]
  },
  {
   "cell_type": "code",
   "execution_count": 2,
   "metadata": {},
   "outputs": [],
   "source": [
    "class animal:\n",
    "    \n",
    "    #object attributes\n",
    "    def __init__(self, animalspecies,  inithealth, animalsound, inithunger): #attributes of the object\n",
    "        self.species = animalspecies #defining the attribute species\n",
    "        self.HP = inithealth\n",
    "        self.sound = animalsound #defining the attribute sound\n",
    "        self.hunger = inithunger\n",
    "    \n",
    "    #object methods (methods are similar to functions)\n",
    "    def greet(self):    #defining method greet()\n",
    "        print(\"Hello, I am a\", self.species,\",\", self.sound,\"!\")\n",
    "        \n",
    "    def eat(self): #defining method eat()\n",
    "        if self.hunger < 100:\n",
    "            self.hunger += 10\n",
    "        #if self.hunger >= 100:\n",
    "            print(\"I'm full\")\n",
    "            \n",
    "    def attack(self,opponent_animal):\n",
    "        print(self.species, \"is attacking\", opponent_animal.species)\n",
    "        opponent_animal.attacked(self)\n",
    "        \n",
    "    def attacked(self, opponent_animal):\n",
    "        if self.HP > 0:\n",
    "            print(self.species, \"is attacked by\", opponent_animal.species,)\n",
    "            print(self.species, \":\", self.sound, \"! awch!\")\n",
    "            self.HP -= 5\n",
    "            print(self.species, \"'s\", \" HP is\", self.HP)\n",
    "        else:\n",
    "            print(self.species, \"is fainted\")"
   ]
  },
  {
   "cell_type": "code",
   "execution_count": 3,
   "metadata": {},
   "outputs": [],
   "source": [
    "# define object dog\n",
    "dog = animal('dog', 100, 'barf', 0)"
   ]
  },
  {
   "cell_type": "code",
   "execution_count": 4,
   "metadata": {},
   "outputs": [],
   "source": [
    "main_window = tkinter.Tk()\n",
    "\n",
    "#Frames\n",
    "screen = LabelFrame(main_window, bg = 'white')\n",
    "screen.grid(row = 1, column = 0, columnspan = 3, padx = 10, pady = 20)\n",
    "buttons = LabelFrame(main_window)\n",
    "buttons.grid(row = 2, column = 0, columnspan = 3)\n",
    "\n",
    "#Sprite\n",
    "spriteimg = ImageTk.PhotoImage(Image.open('pixeldog.png'))\n",
    "\n",
    "# Labels\n",
    "statbar = Entry(main_window)\n",
    "statbar.grid(row =0, column = 0, columnspan = 3, padx = 50)\n",
    "statbar.insert(0,'Hunger: ' +str(dog.hunger))\n",
    "sprite = Label(screen, image = spriteimg)\n",
    "sprite.grid(row = 0, column = 0)\n",
    "\n",
    "dialog = Entry(screen)\n",
    "dialog.grid(row = 1, column = 0)"
   ]
  },
  {
   "cell_type": "code",
   "execution_count": 5,
   "metadata": {},
   "outputs": [],
   "source": [
    "def comgreet():\n",
    "    greetings = tkinter.Label(dialog, text = dog.sound)\n",
    "    #dialog.delete(0,END)\n",
    "    greetings.pack()\n",
    "def feeding():\n",
    "    dog.eat()\n",
    "    #statbar.delete(0,END)\n",
    "    if dog.hunger < 100:\n",
    "            dog.hunger += 10\n",
    "            A = 'I\\'m eating'\n",
    "    if dog.hunger >= 100:\n",
    "            A = 'I\\'m full' \n",
    "    dialog.delete(0,END)\n",
    "    dialog.insert(0,A)\n",
    "    statbar.delete(0,END)\n",
    "    statbar.insert(0,str(dog.hunger))\n",
    "    feed.pack()\n",
    "def Health():\n",
    "    health_stat = tkinter.Label(dialog, text = dog.HP)\n",
    "    health_stat.pack()\n",
    "#def Hunger():\n",
    "    statbar.delete(0,END)\n",
    "    statbar.insert(0,str(dog.hunger))\n",
    "    #hunger_stat = tkinter.Label(statbar, text = str(dog.hunger))\n",
    "    #hunger_stat.pack()"
   ]
  },
  {
   "cell_type": "code",
   "execution_count": 7,
   "metadata": {},
   "outputs": [],
   "source": [
    "greet_button = tkinter.Button(buttons, text = 'Greet', command = comgreet)\n",
    "feed_button = tkinter.Button(buttons, text = 'Feed', command = feeding)\n",
    "HPStat_button = tkinter.Button(buttons, text = 'Health', command = Health)\n",
    "#HungerStat_button = tkinter.Button(buttons, text = 'Hunger', command = Hunger)\n",
    "#stats.grid(row = 0, column = 0)\n",
    "greet_button.grid(row = 0, column = 0)\n",
    "feed_button.grid(row = 0, column = 1)\n",
    "HPStat_button.grid(row = 1, column = 0)\n",
    "#HungerStat_button.grid(row = 1, column = 1)"
   ]
  },
  {
   "cell_type": "code",
   "execution_count": 8,
   "metadata": {},
   "outputs": [
    {
     "name": "stdout",
     "output_type": "stream",
     "text": [
      "I'm full\n"
     ]
    },
    {
     "name": "stderr",
     "output_type": "stream",
     "text": [
      "Exception in Tkinter callback\n",
      "Traceback (most recent call last):\n",
      "  File \"C:\\Users\\Fernanda\\anaconda3\\lib\\tkinter\\__init__.py\", line 1883, in __call__\n",
      "    return self.func(*args)\n",
      "  File \"<ipython-input-5-c1b483397d21>\", line 17, in feeding\n",
      "    feed.pack()\n",
      "NameError: name 'feed' is not defined\n"
     ]
    },
    {
     "name": "stdout",
     "output_type": "stream",
     "text": [
      "I'm full\n"
     ]
    },
    {
     "name": "stderr",
     "output_type": "stream",
     "text": [
      "Exception in Tkinter callback\n",
      "Traceback (most recent call last):\n",
      "  File \"C:\\Users\\Fernanda\\anaconda3\\lib\\tkinter\\__init__.py\", line 1883, in __call__\n",
      "    return self.func(*args)\n",
      "  File \"<ipython-input-5-c1b483397d21>\", line 17, in feeding\n",
      "    feed.pack()\n",
      "NameError: name 'feed' is not defined\n"
     ]
    },
    {
     "name": "stdout",
     "output_type": "stream",
     "text": [
      "I'm full\n"
     ]
    },
    {
     "name": "stderr",
     "output_type": "stream",
     "text": [
      "Exception in Tkinter callback\n",
      "Traceback (most recent call last):\n",
      "  File \"C:\\Users\\Fernanda\\anaconda3\\lib\\tkinter\\__init__.py\", line 1883, in __call__\n",
      "    return self.func(*args)\n",
      "  File \"<ipython-input-5-c1b483397d21>\", line 17, in feeding\n",
      "    feed.pack()\n",
      "NameError: name 'feed' is not defined\n"
     ]
    },
    {
     "name": "stdout",
     "output_type": "stream",
     "text": [
      "I'm full\n"
     ]
    },
    {
     "name": "stderr",
     "output_type": "stream",
     "text": [
      "Exception in Tkinter callback\n",
      "Traceback (most recent call last):\n",
      "  File \"C:\\Users\\Fernanda\\anaconda3\\lib\\tkinter\\__init__.py\", line 1883, in __call__\n",
      "    return self.func(*args)\n",
      "  File \"<ipython-input-5-c1b483397d21>\", line 17, in feeding\n",
      "    feed.pack()\n",
      "NameError: name 'feed' is not defined\n"
     ]
    },
    {
     "name": "stdout",
     "output_type": "stream",
     "text": [
      "I'm full\n"
     ]
    },
    {
     "name": "stderr",
     "output_type": "stream",
     "text": [
      "Exception in Tkinter callback\n",
      "Traceback (most recent call last):\n",
      "  File \"C:\\Users\\Fernanda\\anaconda3\\lib\\tkinter\\__init__.py\", line 1883, in __call__\n",
      "    return self.func(*args)\n",
      "  File \"<ipython-input-5-c1b483397d21>\", line 17, in feeding\n",
      "    feed.pack()\n",
      "NameError: name 'feed' is not defined\n",
      "Exception in Tkinter callback\n",
      "Traceback (most recent call last):\n",
      "  File \"C:\\Users\\Fernanda\\anaconda3\\lib\\tkinter\\__init__.py\", line 1883, in __call__\n",
      "    return self.func(*args)\n",
      "  File \"<ipython-input-5-c1b483397d21>\", line 17, in feeding\n",
      "    feed.pack()\n",
      "NameError: name 'feed' is not defined\n",
      "Exception in Tkinter callback\n",
      "Traceback (most recent call last):\n",
      "  File \"C:\\Users\\Fernanda\\anaconda3\\lib\\tkinter\\__init__.py\", line 1883, in __call__\n",
      "    return self.func(*args)\n",
      "  File \"<ipython-input-5-c1b483397d21>\", line 17, in feeding\n",
      "    feed.pack()\n",
      "NameError: name 'feed' is not defined\n",
      "Exception in Tkinter callback\n",
      "Traceback (most recent call last):\n",
      "  File \"C:\\Users\\Fernanda\\anaconda3\\lib\\tkinter\\__init__.py\", line 1883, in __call__\n",
      "    return self.func(*args)\n",
      "  File \"<ipython-input-5-c1b483397d21>\", line 17, in feeding\n",
      "    feed.pack()\n",
      "NameError: name 'feed' is not defined\n"
     ]
    }
   ],
   "source": [
    "main_window.mainloop()"
   ]
  },
  {
   "cell_type": "code",
   "execution_count": null,
   "metadata": {},
   "outputs": [],
   "source": [
    "dog.hunger"
   ]
  },
  {
   "cell_type": "code",
   "execution_count": null,
   "metadata": {},
   "outputs": [],
   "source": []
  }
 ],
 "metadata": {
  "kernelspec": {
   "display_name": "Python 3",
   "language": "python",
   "name": "python3"
  },
  "language_info": {
   "codemirror_mode": {
    "name": "ipython",
    "version": 3
   },
   "file_extension": ".py",
   "mimetype": "text/x-python",
   "name": "python",
   "nbconvert_exporter": "python",
   "pygments_lexer": "ipython3",
   "version": "3.8.3"
  }
 },
 "nbformat": 4,
 "nbformat_minor": 4
}
